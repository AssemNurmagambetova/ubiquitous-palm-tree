{
 "cells": [
  {
   "cell_type": "code",
   "execution_count": 2,
   "id": "262e7bdb-d90a-4d3c-a956-b732371cb36e",
   "metadata": {},
   "outputs": [],
   "source": [
    "import pandas as pd\n",
    "\n",
    "df=pd.read_csv(r'C:\\Users\\user\\Desktop\\my project\\SQL\\BTC\\btc_1d_data_2018_to_2025.csv')"
   ]
  },
  {
   "cell_type": "code",
   "execution_count": 3,
   "id": "64c606c8-f23c-4186-b053-fd3a5e731797",
   "metadata": {},
   "outputs": [
    {
     "data": {
      "text/html": [
       "<div>\n",
       "<style scoped>\n",
       "    .dataframe tbody tr th:only-of-type {\n",
       "        vertical-align: middle;\n",
       "    }\n",
       "\n",
       "    .dataframe tbody tr th {\n",
       "        vertical-align: top;\n",
       "    }\n",
       "\n",
       "    .dataframe thead th {\n",
       "        text-align: right;\n",
       "    }\n",
       "</style>\n",
       "<table border=\"1\" class=\"dataframe\">\n",
       "  <thead>\n",
       "    <tr style=\"text-align: right;\">\n",
       "      <th></th>\n",
       "      <th>Open time</th>\n",
       "      <th>Open</th>\n",
       "      <th>High</th>\n",
       "      <th>Low</th>\n",
       "      <th>Close</th>\n",
       "      <th>Volume</th>\n",
       "      <th>Close time</th>\n",
       "      <th>Quote asset volume</th>\n",
       "      <th>Number of trades</th>\n",
       "      <th>Taker buy base asset volume</th>\n",
       "      <th>Taker buy quote asset volume</th>\n",
       "      <th>Ignore</th>\n",
       "    </tr>\n",
       "  </thead>\n",
       "  <tbody>\n",
       "    <tr>\n",
       "      <th>0</th>\n",
       "      <td>2018-01-01 00:00:00.000000 UTC</td>\n",
       "      <td>13715.65</td>\n",
       "      <td>13818.55</td>\n",
       "      <td>12750.00</td>\n",
       "      <td>13380.00</td>\n",
       "      <td>8609.915844</td>\n",
       "      <td>2018-01-01 23:59:59.999000 UTC</td>\n",
       "      <td>1.147997e+08</td>\n",
       "      <td>105595</td>\n",
       "      <td>3961.938946</td>\n",
       "      <td>5.280975e+07</td>\n",
       "      <td>0</td>\n",
       "    </tr>\n",
       "    <tr>\n",
       "      <th>1</th>\n",
       "      <td>2018-01-02 00:00:00.000000 UTC</td>\n",
       "      <td>13382.16</td>\n",
       "      <td>15473.49</td>\n",
       "      <td>12890.02</td>\n",
       "      <td>14675.11</td>\n",
       "      <td>20078.092111</td>\n",
       "      <td>2018-01-02 23:59:59.999000 UTC</td>\n",
       "      <td>2.797171e+08</td>\n",
       "      <td>177728</td>\n",
       "      <td>11346.326739</td>\n",
       "      <td>1.580801e+08</td>\n",
       "      <td>0</td>\n",
       "    </tr>\n",
       "    <tr>\n",
       "      <th>2</th>\n",
       "      <td>2018-01-03 00:00:00.000000 UTC</td>\n",
       "      <td>14690.00</td>\n",
       "      <td>15307.56</td>\n",
       "      <td>14150.00</td>\n",
       "      <td>14919.51</td>\n",
       "      <td>15905.667639</td>\n",
       "      <td>2018-01-03 23:59:59.999000 UTC</td>\n",
       "      <td>2.361169e+08</td>\n",
       "      <td>162787</td>\n",
       "      <td>8994.953566</td>\n",
       "      <td>1.335873e+08</td>\n",
       "      <td>0</td>\n",
       "    </tr>\n",
       "    <tr>\n",
       "      <th>3</th>\n",
       "      <td>2018-01-04 00:00:00.000000 UTC</td>\n",
       "      <td>14919.51</td>\n",
       "      <td>15280.00</td>\n",
       "      <td>13918.04</td>\n",
       "      <td>15059.54</td>\n",
       "      <td>21329.649574</td>\n",
       "      <td>2018-01-04 23:59:59.999000 UTC</td>\n",
       "      <td>3.127816e+08</td>\n",
       "      <td>170310</td>\n",
       "      <td>12680.812951</td>\n",
       "      <td>1.861168e+08</td>\n",
       "      <td>0</td>\n",
       "    </tr>\n",
       "    <tr>\n",
       "      <th>4</th>\n",
       "      <td>2018-01-05 00:00:00.000000 UTC</td>\n",
       "      <td>15059.56</td>\n",
       "      <td>17176.24</td>\n",
       "      <td>14600.00</td>\n",
       "      <td>16960.39</td>\n",
       "      <td>23251.491125</td>\n",
       "      <td>2018-01-05 23:59:59.999000 UTC</td>\n",
       "      <td>3.693220e+08</td>\n",
       "      <td>192969</td>\n",
       "      <td>13346.622293</td>\n",
       "      <td>2.118299e+08</td>\n",
       "      <td>0</td>\n",
       "    </tr>\n",
       "  </tbody>\n",
       "</table>\n",
       "</div>"
      ],
      "text/plain": [
       "                        Open time      Open      High       Low     Close  \\\n",
       "0  2018-01-01 00:00:00.000000 UTC  13715.65  13818.55  12750.00  13380.00   \n",
       "1  2018-01-02 00:00:00.000000 UTC  13382.16  15473.49  12890.02  14675.11   \n",
       "2  2018-01-03 00:00:00.000000 UTC  14690.00  15307.56  14150.00  14919.51   \n",
       "3  2018-01-04 00:00:00.000000 UTC  14919.51  15280.00  13918.04  15059.54   \n",
       "4  2018-01-05 00:00:00.000000 UTC  15059.56  17176.24  14600.00  16960.39   \n",
       "\n",
       "         Volume                      Close time  Quote asset volume  \\\n",
       "0   8609.915844  2018-01-01 23:59:59.999000 UTC        1.147997e+08   \n",
       "1  20078.092111  2018-01-02 23:59:59.999000 UTC        2.797171e+08   \n",
       "2  15905.667639  2018-01-03 23:59:59.999000 UTC        2.361169e+08   \n",
       "3  21329.649574  2018-01-04 23:59:59.999000 UTC        3.127816e+08   \n",
       "4  23251.491125  2018-01-05 23:59:59.999000 UTC        3.693220e+08   \n",
       "\n",
       "   Number of trades  Taker buy base asset volume  \\\n",
       "0            105595                  3961.938946   \n",
       "1            177728                 11346.326739   \n",
       "2            162787                  8994.953566   \n",
       "3            170310                 12680.812951   \n",
       "4            192969                 13346.622293   \n",
       "\n",
       "   Taker buy quote asset volume  Ignore  \n",
       "0                  5.280975e+07       0  \n",
       "1                  1.580801e+08       0  \n",
       "2                  1.335873e+08       0  \n",
       "3                  1.861168e+08       0  \n",
       "4                  2.118299e+08       0  "
      ]
     },
     "execution_count": 3,
     "metadata": {},
     "output_type": "execute_result"
    }
   ],
   "source": [
    "df.head()"
   ]
  },
  {
   "cell_type": "code",
   "execution_count": 4,
   "id": "099d75f0-d93d-4d09-927e-e88dcef20233",
   "metadata": {},
   "outputs": [
    {
     "name": "stdout",
     "output_type": "stream",
     "text": [
      "<class 'pandas.core.frame.DataFrame'>\n",
      "RangeIndex: 2799 entries, 0 to 2798\n",
      "Data columns (total 12 columns):\n",
      " #   Column                        Non-Null Count  Dtype  \n",
      "---  ------                        --------------  -----  \n",
      " 0   Open time                     2799 non-null   object \n",
      " 1   Open                          2799 non-null   float64\n",
      " 2   High                          2799 non-null   float64\n",
      " 3   Low                           2799 non-null   float64\n",
      " 4   Close                         2799 non-null   float64\n",
      " 5   Volume                        2799 non-null   float64\n",
      " 6   Close time                    2799 non-null   object \n",
      " 7   Quote asset volume            2799 non-null   float64\n",
      " 8   Number of trades              2799 non-null   int64  \n",
      " 9   Taker buy base asset volume   2799 non-null   float64\n",
      " 10  Taker buy quote asset volume  2799 non-null   float64\n",
      " 11  Ignore                        2799 non-null   int64  \n",
      "dtypes: float64(8), int64(2), object(2)\n",
      "memory usage: 262.5+ KB\n"
     ]
    }
   ],
   "source": [
    "df.info()\n"
   ]
  },
  {
   "cell_type": "code",
   "execution_count": 5,
   "id": "f0e57484-1765-4e2e-8cf4-0703afddc963",
   "metadata": {},
   "outputs": [],
   "source": [
    "df['Open time'] = pd.to_datetime(df['Open time'].str.replace(' UTC', ''))\n",
    "df['Close time'] = pd.to_datetime(df['Close time'].str.replace(' UTC', ''))"
   ]
  },
  {
   "cell_type": "code",
   "execution_count": 6,
   "id": "d31facb3-fc7f-45c0-8f1a-7d396fac46e4",
   "metadata": {},
   "outputs": [
    {
     "name": "stdout",
     "output_type": "stream",
     "text": [
      "<class 'pandas.core.frame.DataFrame'>\n",
      "RangeIndex: 2799 entries, 0 to 2798\n",
      "Data columns (total 12 columns):\n",
      " #   Column                        Non-Null Count  Dtype         \n",
      "---  ------                        --------------  -----         \n",
      " 0   Open time                     2799 non-null   datetime64[ns]\n",
      " 1   Open                          2799 non-null   float64       \n",
      " 2   High                          2799 non-null   float64       \n",
      " 3   Low                           2799 non-null   float64       \n",
      " 4   Close                         2799 non-null   float64       \n",
      " 5   Volume                        2799 non-null   float64       \n",
      " 6   Close time                    2799 non-null   datetime64[ns]\n",
      " 7   Quote asset volume            2799 non-null   float64       \n",
      " 8   Number of trades              2799 non-null   int64         \n",
      " 9   Taker buy base asset volume   2799 non-null   float64       \n",
      " 10  Taker buy quote asset volume  2799 non-null   float64       \n",
      " 11  Ignore                        2799 non-null   int64         \n",
      "dtypes: datetime64[ns](2), float64(8), int64(2)\n",
      "memory usage: 262.5 KB\n"
     ]
    }
   ],
   "source": [
    "df.info()"
   ]
  },
  {
   "cell_type": "code",
   "execution_count": 7,
   "id": "210b701d-48ff-4751-bf43-9ee61045788e",
   "metadata": {},
   "outputs": [],
   "source": [
    "df.to_csv('btc_1d_data_cleaned.csv', index=False)"
   ]
  },
  {
   "cell_type": "code",
   "execution_count": null,
   "id": "c539291f-9c60-4f54-a504-984637b225b7",
   "metadata": {},
   "outputs": [],
   "source": []
  }
 ],
 "metadata": {
  "kernelspec": {
   "display_name": "Python 3 (ipykernel)",
   "language": "python",
   "name": "python3"
  },
  "language_info": {
   "codemirror_mode": {
    "name": "ipython",
    "version": 3
   },
   "file_extension": ".py",
   "mimetype": "text/x-python",
   "name": "python",
   "nbconvert_exporter": "python",
   "pygments_lexer": "ipython3",
   "version": "3.13.1"
  }
 },
 "nbformat": 4,
 "nbformat_minor": 5
}
